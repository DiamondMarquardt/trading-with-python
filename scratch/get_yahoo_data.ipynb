{
 "cells": [
  {
   "cell_type": "markdown",
   "metadata": {},
   "source": [
    "# Get data from yahoo, after the ichart interface is gone.\n",
    "\n",
    "\n",
    "**Author: Jev Kuznetsov**\n",
    "\n",
    "On 18 May 2017 the `ichart` data api of yahoo finance went down, without any notice. And it does not seem like it is coming back. This has left many (including me) without a descent free end-of-day data source. \n",
    "\n",
    "It appears that Yahoo now tries to block automatic requests by requiring a combination of a *cookie* and a *crumb* token. \n",
    "\n",
    "There are ways around it, pointers to how to do it can be found on [stackoverflow](http://stackoverflow.com/questions/44030983/yahoo-finance-url-not-working)\n",
    "\n",
    "The script below executes the steps needed to get the data and at the same time demonstrates the use of a couple very handy python libraries\n"
   ]
  },
  {
   "cell_type": "code",
   "execution_count": 1,
   "metadata": {},
   "outputs": [
    {
     "name": "stdout",
     "output_type": "stream",
     "text": [
      "Populating the interactive namespace from numpy and matplotlib\n"
     ]
    }
   ],
   "source": [
    "%pylab inline"
   ]
  },
  {
   "cell_type": "code",
   "execution_count": 2,
   "metadata": {
    "collapsed": true
   },
   "outputs": [],
   "source": [
    "import requests # interaction with the web\n",
    "import os  #  file system operations\n",
    "import yaml # human-friendly data format\n",
    "import re  # regular expressions\n",
    "import pandas as pd # pandas... the best time series library out there\n",
    "import datetime as dt # date and time functions\n",
    "import io "
   ]
  },
  {
   "cell_type": "markdown",
   "metadata": {},
   "source": [
    "## Get cookie and token\n",
    "\n",
    "The cookie and token can be used for about a year, so it's better to download them once and save to file\n"
   ]
  },
  {
   "cell_type": "code",
   "execution_count": 3,
   "metadata": {},
   "outputs": [
    {
     "name": "stdout",
     "output_type": "stream",
     "text": [
      "Cookie:  ctdg6u1ci1a3o&b=3&s=u5\n",
      "Crumb= YoBpll1PYIi\n"
     ]
    }
   ],
   "source": [
    "# search with regular expressions\n",
    "\n",
    "# \"CrumbStore\":\\{\"crumb\":\"(?<crumb>[^\"]+)\"\\}\n",
    "\n",
    "url = 'https://uk.finance.yahoo.com/quote/AAPL/history' # url for a ticker symbol, with a download link\n",
    "r = requests.get(url)  # download page\n",
    "\n",
    "txt = r.text # extract html\n",
    "\n",
    "\n",
    "cookie = r.cookies['B'] # the cooke we're looking for is named 'B'\n",
    "print('Cookie: ', cookie)\n",
    "\n",
    "# Now we need to extract the token from html. \n",
    "# the string we need looks like this: \"CrumbStore\":{\"crumb\":\"lQHxbbYOBCq\"}\n",
    "# regular expressions will do the trick!\n",
    "\n",
    "pattern = re.compile('.*\"CrumbStore\":\\{\"crumb\":\"(?P<crumb>[^\"]+)\"\\}')\n",
    "\n",
    "for line in txt.splitlines():\n",
    "    m = pattern.match(line)\n",
    "    if m is not None:\n",
    "        crumb = m.groupdict()['crumb']\n",
    "        \n",
    "        \n",
    "print('Crumb=',crumb)"
   ]
  },
  {
   "cell_type": "code",
   "execution_count": 4,
   "metadata": {},
   "outputs": [],
   "source": [
    "# create data directory in the user folder\n",
    "dataDir = os.path.expanduser('~')+'/twpData'\n",
    "\n",
    "if not os.path.exists(dataDir):\n",
    "    os.mkdir(dataDir)\n",
    "\n",
    "\n",
    "# save data to YAML file\n",
    "data = {'cookie':cookie,'crumb':crumb}\n",
    "\n",
    "dataFile = os.path.join(dataDir,'yahoo_cookie.yml')\n",
    "\n",
    "with open(dataFile,'w') as fid:\n",
    "    yaml.dump(data,fid)"
   ]
  },
  {
   "cell_type": "markdown",
   "metadata": {},
   "source": [
    "## Define start and end times\n",
    "\n",
    "start and end times of the requested data are in seconds since epoch (1 Jan 1970)\n",
    "these are easey to get with `timestamp()` "
   ]
  },
  {
   "cell_type": "markdown",
   "metadata": {},
   "source": [
    "`https://query1.finance.yahoo.com/v7/finance/download/SPY?period1=1463754366&period2=1495290366&interval=1d&events=history&crumb=DB/mJy8XKWr`"
   ]
  },
  {
   "cell_type": "code",
   "execution_count": 5,
   "metadata": {},
   "outputs": [
    {
     "data": {
      "text/plain": [
       "1230764400.0"
      ]
     },
     "execution_count": 5,
     "metadata": {},
     "output_type": "execute_result"
    }
   ],
   "source": [
    "\n",
    "# start with tuples ...\n",
    "sDate = (2009,1,1)\n",
    "eDate = (2017,5,20)\n",
    " \n",
    "dt.datetime(*sDate).timestamp() # convert to seconds since epoch"
   ]
  },
  {
   "cell_type": "markdown",
   "metadata": {},
   "source": [
    "## Get data\n",
    "\n",
    "now it's time to get data from yahoo"
   ]
  },
  {
   "cell_type": "code",
   "execution_count": 6,
   "metadata": {},
   "outputs": [
    {
     "name": "stdout",
     "output_type": "stream",
     "text": [
      "https://query1.finance.yahoo.com/v7/finance/download/VXX?period1=1230764400&period2=1495231200&interval=1d&events=history&crumb=YoBpll1PYIi\n"
     ]
    }
   ],
   "source": [
    "\n",
    "# prepare input data as a tuple\n",
    "data = (int(dt.datetime(*sDate).timestamp()),\n",
    "        int(dt.datetime(*eDate).timestamp()), \n",
    "        crumb)\n",
    "\n",
    "\n",
    "url = \"https://query1.finance.yahoo.com/v7/finance/download/VXX?period1={0}&period2={1}&interval=1d&events=history&crumb={2}\".format(*data)\n",
    "\n",
    "\n",
    "print(url)\n",
    "data = requests.get(url, cookies={'B':cookie})"
   ]
  },
  {
   "cell_type": "code",
   "execution_count": 7,
   "metadata": {},
   "outputs": [
    {
     "data": {
      "text/html": [
       "<div>\n",
       "<table border=\"1\" class=\"dataframe\">\n",
       "  <thead>\n",
       "    <tr style=\"text-align: right;\">\n",
       "      <th></th>\n",
       "      <th>Open</th>\n",
       "      <th>High</th>\n",
       "      <th>Low</th>\n",
       "      <th>Close</th>\n",
       "      <th>Adj Close</th>\n",
       "      <th>Volume</th>\n",
       "    </tr>\n",
       "    <tr>\n",
       "      <th>Date</th>\n",
       "      <th></th>\n",
       "      <th></th>\n",
       "      <th></th>\n",
       "      <th></th>\n",
       "      <th></th>\n",
       "      <th></th>\n",
       "    </tr>\n",
       "  </thead>\n",
       "  <tbody>\n",
       "    <tr>\n",
       "      <th>2009-01-30</th>\n",
       "      <td>25628.160156</td>\n",
       "      <td>26890.240234</td>\n",
       "      <td>25536.000000</td>\n",
       "      <td>104.580002</td>\n",
       "      <td>26772.480469</td>\n",
       "      <td>800</td>\n",
       "    </tr>\n",
       "    <tr>\n",
       "      <th>2009-02-02</th>\n",
       "      <td>27673.599609</td>\n",
       "      <td>27673.599609</td>\n",
       "      <td>26608.640625</td>\n",
       "      <td>104.250000</td>\n",
       "      <td>26688.000000</td>\n",
       "      <td>1200</td>\n",
       "    </tr>\n",
       "    <tr>\n",
       "      <th>2009-02-03</th>\n",
       "      <td>26659.839844</td>\n",
       "      <td>26659.839844</td>\n",
       "      <td>25423.359375</td>\n",
       "      <td>99.370003</td>\n",
       "      <td>25438.720703</td>\n",
       "      <td>600</td>\n",
       "    </tr>\n",
       "    <tr>\n",
       "      <th>2009-02-04</th>\n",
       "      <td>25152.000000</td>\n",
       "      <td>25699.839844</td>\n",
       "      <td>24832.000000</td>\n",
       "      <td>99.739998</td>\n",
       "      <td>25533.439453</td>\n",
       "      <td>600</td>\n",
       "    </tr>\n",
       "    <tr>\n",
       "      <th>2009-02-05</th>\n",
       "      <td>26009.599609</td>\n",
       "      <td>26570.240234</td>\n",
       "      <td>25126.400391</td>\n",
       "      <td>99.129997</td>\n",
       "      <td>25377.279297</td>\n",
       "      <td>900</td>\n",
       "    </tr>\n",
       "  </tbody>\n",
       "</table>\n",
       "</div>"
      ],
      "text/plain": [
       "                    Open          High           Low       Close  \\\n",
       "Date                                                               \n",
       "2009-01-30  25628.160156  26890.240234  25536.000000  104.580002   \n",
       "2009-02-02  27673.599609  27673.599609  26608.640625  104.250000   \n",
       "2009-02-03  26659.839844  26659.839844  25423.359375   99.370003   \n",
       "2009-02-04  25152.000000  25699.839844  24832.000000   99.739998   \n",
       "2009-02-05  26009.599609  26570.240234  25126.400391   99.129997   \n",
       "\n",
       "               Adj Close  Volume  \n",
       "Date                              \n",
       "2009-01-30  26772.480469     800  \n",
       "2009-02-02  26688.000000    1200  \n",
       "2009-02-03  25438.720703     600  \n",
       "2009-02-04  25533.439453     600  \n",
       "2009-02-05  25377.279297     900  "
      ]
     },
     "execution_count": 7,
     "metadata": {},
     "output_type": "execute_result"
    }
   ],
   "source": [
    "buf = io.StringIO(data.text) # create a buffer\n",
    "df = pd.read_csv(buf,index_col=0) # convert to pandas DataFrame\n",
    "df.head()"
   ]
  },
  {
   "cell_type": "code",
   "execution_count": 8,
   "metadata": {},
   "outputs": [
    {
     "data": {
      "text/plain": [
       "<matplotlib.axes._subplots.AxesSubplot at 0x7f8306e79390>"
      ]
     },
     "execution_count": 8,
     "metadata": {},
     "output_type": "execute_result"
    },
    {
     "data": {
      "image/png": "[encoded data removed]",
      "text/plain": [
       "<matplotlib.figure.Figure at 0x7f8306e722b0>"
      ]
     },
     "metadata": {},
     "output_type": "display_data"
    }
   ],
   "source": [
    "# plot \n",
    "df['Adj Close'].plot(logy=True)"
   ]
  },
  {
   "cell_type": "code",
   "execution_count": 9,
   "metadata": {},
   "outputs": [
    {
     "data": {
      "text/plain": [
       "<matplotlib.axes._subplots.AxesSubplot at 0x7f8303ddf198>"
      ]
     },
     "execution_count": 9,
     "metadata": {},
     "output_type": "execute_result"
    },
    {
     "data": {
      "image/png": "[encoded data removed]",
      "text/plain": [
       "<matplotlib.figure.Figure at 0x7f8303e0c2b0>"
      ]
     },
     "metadata": {},
     "output_type": "display_data"
    }
   ],
   "source": [
    "# the closing price is not adjustes for splits ...\n",
    "df.Close.plot()"
   ]
  }
 ],
 "metadata": {
  "kernelspec": {
   "display_name": "Python [conda root]",
   "language": "python",
   "name": "conda-root-py"
  },
  "language_info": {
   "codemirror_mode": {
    "name": "ipython",
    "version": 3
   },
   "file_extension": ".py",
   "mimetype": "text/x-python",
   "name": "python",
   "nbconvert_exporter": "python",
   "pygments_lexer": "ipython3",
   "version": "3.5.3"
  }
 },
 "nbformat": 4,
 "nbformat_minor": 2
}
